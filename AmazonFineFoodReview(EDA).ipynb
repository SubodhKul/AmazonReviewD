{
 "cells": [
  {
   "cell_type": "code",
   "execution_count": 1,
   "id": "3264877c",
   "metadata": {},
   "outputs": [],
   "source": [
    "%matplotlib inline\n",
    "import sqlite3\n",
    "import pandas as pd\n",
    "import numpy as np\n",
    "import nltk\n",
    "import string\n",
    "import matplotlib.pyplot as plt\n",
    "import seaborn as sns\n",
    "\n",
    "from sklearn.feature_extraction.text import TfidfTransformer\n",
    "from sklearn.feature_extraction.text import TfidfVectorizer\n",
    "\n",
    "\n",
    "from sklearn.feature_extraction.text import CountVectorizer\n",
    "from sklearn.metrics import confusion_matrix\n",
    "from sklearn import metrics\n",
    "from sklearn.metrics import roc_curve, auc\n",
    "from nltk.stem.porter import PorterStemmer\n",
    "\n",
    "import re\n",
    "# Tutorial about Python regular expressions: https://pymotw.com/2/re/\n",
    "import string\n",
    "from nltk.corpus import stopwords\n",
    "from nltk.stem import PorterStemmer\n",
    "from nltk.stem.wordnet import WordNetLemmatizer\n",
    "\n",
    "\n",
    "from gensim.models import Word2Vec\n",
    "from gensim.models import KeyedVectors\n",
    "import pickle\n",
    "\n",
    "from tqdm import tqdm\n",
    "import os\n"
   ]
  },
  {
   "cell_type": "code",
   "execution_count": 2,
   "id": "6e0d358b",
   "metadata": {},
   "outputs": [
    {
     "name": "stdout",
     "output_type": "stream",
     "text": [
      "(525814, 10)\n"
     ]
    },
    {
     "data": {
      "text/html": [
       "<div>\n",
       "<style scoped>\n",
       "    .dataframe tbody tr th:only-of-type {\n",
       "        vertical-align: middle;\n",
       "    }\n",
       "\n",
       "    .dataframe tbody tr th {\n",
       "        vertical-align: top;\n",
       "    }\n",
       "\n",
       "    .dataframe thead th {\n",
       "        text-align: right;\n",
       "    }\n",
       "</style>\n",
       "<table border=\"1\" class=\"dataframe\">\n",
       "  <thead>\n",
       "    <tr style=\"text-align: right;\">\n",
       "      <th></th>\n",
       "      <th>Id</th>\n",
       "      <th>ProductId</th>\n",
       "      <th>UserId</th>\n",
       "      <th>ProfileName</th>\n",
       "      <th>HelpfulnessNumerator</th>\n",
       "      <th>HelpfulnessDenominator</th>\n",
       "      <th>Score</th>\n",
       "      <th>Time</th>\n",
       "      <th>Summary</th>\n",
       "      <th>Text</th>\n",
       "    </tr>\n",
       "  </thead>\n",
       "  <tbody>\n",
       "    <tr>\n",
       "      <th>0</th>\n",
       "      <td>1</td>\n",
       "      <td>B001E4KFG0</td>\n",
       "      <td>A3SGXH7AUHU8GW</td>\n",
       "      <td>delmartian</td>\n",
       "      <td>1</td>\n",
       "      <td>1</td>\n",
       "      <td>5</td>\n",
       "      <td>1303862400</td>\n",
       "      <td>Good Quality Dog Food</td>\n",
       "      <td>I have bought several of the Vitality canned d...</td>\n",
       "    </tr>\n",
       "    <tr>\n",
       "      <th>1</th>\n",
       "      <td>2</td>\n",
       "      <td>B00813GRG4</td>\n",
       "      <td>A1D87F6ZCVE5NK</td>\n",
       "      <td>dll pa</td>\n",
       "      <td>0</td>\n",
       "      <td>0</td>\n",
       "      <td>1</td>\n",
       "      <td>1346976000</td>\n",
       "      <td>Not as Advertised</td>\n",
       "      <td>Product arrived labeled as Jumbo Salted Peanut...</td>\n",
       "    </tr>\n",
       "    <tr>\n",
       "      <th>2</th>\n",
       "      <td>3</td>\n",
       "      <td>B000LQOCH0</td>\n",
       "      <td>ABXLMWJIXXAIN</td>\n",
       "      <td>Natalia Corres \"Natalia Corres\"</td>\n",
       "      <td>1</td>\n",
       "      <td>1</td>\n",
       "      <td>4</td>\n",
       "      <td>1219017600</td>\n",
       "      <td>\"Delight\" says it all</td>\n",
       "      <td>This is a confection that has been around a fe...</td>\n",
       "    </tr>\n",
       "    <tr>\n",
       "      <th>3</th>\n",
       "      <td>4</td>\n",
       "      <td>B000UA0QIQ</td>\n",
       "      <td>A395BORC6FGVXV</td>\n",
       "      <td>Karl</td>\n",
       "      <td>3</td>\n",
       "      <td>3</td>\n",
       "      <td>2</td>\n",
       "      <td>1307923200</td>\n",
       "      <td>Cough Medicine</td>\n",
       "      <td>If you are looking for the secret ingredient i...</td>\n",
       "    </tr>\n",
       "    <tr>\n",
       "      <th>4</th>\n",
       "      <td>5</td>\n",
       "      <td>B006K2ZZ7K</td>\n",
       "      <td>A1UQRSCLF8GW1T</td>\n",
       "      <td>Michael D. Bigham \"M. Wassir\"</td>\n",
       "      <td>0</td>\n",
       "      <td>0</td>\n",
       "      <td>5</td>\n",
       "      <td>1350777600</td>\n",
       "      <td>Great taffy</td>\n",
       "      <td>Great taffy at a great price.  There was a wid...</td>\n",
       "    </tr>\n",
       "  </tbody>\n",
       "</table>\n",
       "</div>"
      ],
      "text/plain": [
       "   Id   ProductId          UserId                      ProfileName  \\\n",
       "0   1  B001E4KFG0  A3SGXH7AUHU8GW                       delmartian   \n",
       "1   2  B00813GRG4  A1D87F6ZCVE5NK                           dll pa   \n",
       "2   3  B000LQOCH0   ABXLMWJIXXAIN  Natalia Corres \"Natalia Corres\"   \n",
       "3   4  B000UA0QIQ  A395BORC6FGVXV                             Karl   \n",
       "4   5  B006K2ZZ7K  A1UQRSCLF8GW1T    Michael D. Bigham \"M. Wassir\"   \n",
       "\n",
       "   HelpfulnessNumerator  HelpfulnessDenominator  Score        Time  \\\n",
       "0                     1                       1      5  1303862400   \n",
       "1                     0                       0      1  1346976000   \n",
       "2                     1                       1      4  1219017600   \n",
       "3                     3                       3      2  1307923200   \n",
       "4                     0                       0      5  1350777600   \n",
       "\n",
       "                 Summary                                               Text  \n",
       "0  Good Quality Dog Food  I have bought several of the Vitality canned d...  \n",
       "1      Not as Advertised  Product arrived labeled as Jumbo Salted Peanut...  \n",
       "2  \"Delight\" says it all  This is a confection that has been around a fe...  \n",
       "3         Cough Medicine  If you are looking for the secret ingredient i...  \n",
       "4            Great taffy  Great taffy at a great price.  There was a wid...  "
      ]
     },
     "execution_count": 2,
     "metadata": {},
     "output_type": "execute_result"
    }
   ],
   "source": [
    "connection = sqlite3.connect('archive/database.sqlite')\n",
    "\n",
    "filtered_data = pd.read_sql_query(\"\"\" SELECT * FROM Reviews WHERE Score != 3 \"\"\", connection)\n",
    "print(filtered_data.shape)\n",
    "filtered_data.head()"
   ]
  },
  {
   "cell_type": "code",
   "execution_count": 3,
   "id": "d5dade1b",
   "metadata": {},
   "outputs": [
    {
     "data": {
      "text/plain": [
       "(525814, 10)"
      ]
     },
     "execution_count": 3,
     "metadata": {},
     "output_type": "execute_result"
    }
   ],
   "source": [
    "#changing review score column from scores to positive or negative\n",
    "actual_score = filtered_data[\"Score\"]\n",
    "positiveNegative = actual_score.map(lambda x: 0 if (x < 3) else 1)\n",
    "filtered_data[\"Score\"] = positiveNegative\n",
    "filtered_data.head()\n",
    "filtered_data.shape"
   ]
  },
  {
   "cell_type": "code",
   "execution_count": 4,
   "id": "995489c0",
   "metadata": {},
   "outputs": [
    {
     "name": "stdout",
     "output_type": "stream",
     "text": [
      "(80668, 7)\n"
     ]
    },
    {
     "data": {
      "text/html": [
       "<div>\n",
       "<style scoped>\n",
       "    .dataframe tbody tr th:only-of-type {\n",
       "        vertical-align: middle;\n",
       "    }\n",
       "\n",
       "    .dataframe tbody tr th {\n",
       "        vertical-align: top;\n",
       "    }\n",
       "\n",
       "    .dataframe thead th {\n",
       "        text-align: right;\n",
       "    }\n",
       "</style>\n",
       "<table border=\"1\" class=\"dataframe\">\n",
       "  <thead>\n",
       "    <tr style=\"text-align: right;\">\n",
       "      <th></th>\n",
       "      <th>UserId</th>\n",
       "      <th>ProductId</th>\n",
       "      <th>ProfileName</th>\n",
       "      <th>Time</th>\n",
       "      <th>Score</th>\n",
       "      <th>Text</th>\n",
       "      <th>COUNT(*)</th>\n",
       "    </tr>\n",
       "  </thead>\n",
       "  <tbody>\n",
       "    <tr>\n",
       "      <th>0</th>\n",
       "      <td>#oc-R115TNMSPFT9I7</td>\n",
       "      <td>B007Y59HVM</td>\n",
       "      <td>Breyton</td>\n",
       "      <td>1331510400</td>\n",
       "      <td>2</td>\n",
       "      <td>Overall its just OK when considering the price...</td>\n",
       "      <td>2</td>\n",
       "    </tr>\n",
       "    <tr>\n",
       "      <th>1</th>\n",
       "      <td>#oc-R11D9D7SHXIJB9</td>\n",
       "      <td>B005HG9ET0</td>\n",
       "      <td>Louis E. Emory \"hoppy\"</td>\n",
       "      <td>1342396800</td>\n",
       "      <td>5</td>\n",
       "      <td>My wife has recurring extreme muscle spasms, u...</td>\n",
       "      <td>3</td>\n",
       "    </tr>\n",
       "    <tr>\n",
       "      <th>2</th>\n",
       "      <td>#oc-R11DNU2NBKQ23Z</td>\n",
       "      <td>B007Y59HVM</td>\n",
       "      <td>Kim Cieszykowski</td>\n",
       "      <td>1348531200</td>\n",
       "      <td>1</td>\n",
       "      <td>This coffee is horrible and unfortunately not ...</td>\n",
       "      <td>2</td>\n",
       "    </tr>\n",
       "    <tr>\n",
       "      <th>3</th>\n",
       "      <td>#oc-R11O5J5ZVQE25C</td>\n",
       "      <td>B005HG9ET0</td>\n",
       "      <td>Penguin Chick</td>\n",
       "      <td>1346889600</td>\n",
       "      <td>5</td>\n",
       "      <td>This will be the bottle that you grab from the...</td>\n",
       "      <td>3</td>\n",
       "    </tr>\n",
       "    <tr>\n",
       "      <th>4</th>\n",
       "      <td>#oc-R12KPBODL2B5ZD</td>\n",
       "      <td>B007OSBE1U</td>\n",
       "      <td>Christopher P. Presta</td>\n",
       "      <td>1348617600</td>\n",
       "      <td>1</td>\n",
       "      <td>I didnt like this coffee. Instead of telling y...</td>\n",
       "      <td>2</td>\n",
       "    </tr>\n",
       "  </tbody>\n",
       "</table>\n",
       "</div>"
      ],
      "text/plain": [
       "               UserId   ProductId             ProfileName        Time  Score  \\\n",
       "0  #oc-R115TNMSPFT9I7  B007Y59HVM                 Breyton  1331510400      2   \n",
       "1  #oc-R11D9D7SHXIJB9  B005HG9ET0  Louis E. Emory \"hoppy\"  1342396800      5   \n",
       "2  #oc-R11DNU2NBKQ23Z  B007Y59HVM        Kim Cieszykowski  1348531200      1   \n",
       "3  #oc-R11O5J5ZVQE25C  B005HG9ET0           Penguin Chick  1346889600      5   \n",
       "4  #oc-R12KPBODL2B5ZD  B007OSBE1U   Christopher P. Presta  1348617600      1   \n",
       "\n",
       "                                                Text  COUNT(*)  \n",
       "0  Overall its just OK when considering the price...         2  \n",
       "1  My wife has recurring extreme muscle spasms, u...         3  \n",
       "2  This coffee is horrible and unfortunately not ...         2  \n",
       "3  This will be the bottle that you grab from the...         3  \n",
       "4  I didnt like this coffee. Instead of telling y...         2  "
      ]
     },
     "execution_count": 4,
     "metadata": {},
     "output_type": "execute_result"
    }
   ],
   "source": [
    "display = pd.read_sql_query(\"\"\"\n",
    "SELECT UserId, ProductId, ProfileName, Time, Score, Text, COUNT(*)\n",
    "FROM Reviews\n",
    "GROUP BY UserId\n",
    "HAVING COUNT(*)>1\n",
    "\"\"\", connection)\n",
    "print(display.shape)\n",
    "display.head()"
   ]
  },
  {
   "cell_type": "code",
   "execution_count": 5,
   "id": "746a2391",
   "metadata": {},
   "outputs": [
    {
     "data": {
      "text/plain": [
       "393063"
      ]
     },
     "execution_count": 5,
     "metadata": {},
     "output_type": "execute_result"
    }
   ],
   "source": [
    "display[display['UserId']=='AZY10LLTJ71NX']\n",
    "display['COUNT(*)'].sum()"
   ]
  },
  {
   "cell_type": "code",
   "execution_count": 6,
   "id": "1bd283b8",
   "metadata": {},
   "outputs": [],
   "source": [
    "#Sorting data according to ProductId in ascending order\n",
    "sorted_data=filtered_data.sort_values('ProductId', axis=0, ascending=True, inplace=False, kind='quicksort', na_position='last')"
   ]
  },
  {
   "cell_type": "code",
   "execution_count": 7,
   "id": "6126a533",
   "metadata": {},
   "outputs": [
    {
     "data": {
      "text/plain": [
       "(364173, 10)"
      ]
     },
     "execution_count": 7,
     "metadata": {},
     "output_type": "execute_result"
    }
   ],
   "source": [
    "#Deduplication of entries\n",
    "final=sorted_data.drop_duplicates(subset={\"UserId\",\"ProfileName\",\"Time\",\"Text\"}, keep='first', inplace=False)\n",
    "final.shape"
   ]
  },
  {
   "cell_type": "code",
   "execution_count": 8,
   "id": "3222b9b7",
   "metadata": {},
   "outputs": [
    {
     "data": {
      "text/plain": [
       "69.25890143662969"
      ]
     },
     "execution_count": 8,
     "metadata": {},
     "output_type": "execute_result"
    }
   ],
   "source": [
    "#Checking to see how much % of data still remains\n",
    "(final['Id'].size*1.0)/(filtered_data['Id'].size*1.0)*100"
   ]
  },
  {
   "cell_type": "code",
   "execution_count": 9,
   "id": "269a98e4",
   "metadata": {},
   "outputs": [
    {
     "name": "stdout",
     "output_type": "stream",
     "text": [
      "(364171, 10)\n"
     ]
    }
   ],
   "source": [
    "final=final[final.HelpfulnessNumerator<=final.HelpfulnessDenominator]\n",
    "print(final.shape)"
   ]
  },
  {
   "cell_type": "code",
   "execution_count": 10,
   "id": "84d3a0d3",
   "metadata": {},
   "outputs": [
    {
     "data": {
      "text/plain": [
       "1    307061\n",
       "0     57110\n",
       "Name: Score, dtype: int64"
      ]
     },
     "execution_count": 10,
     "metadata": {},
     "output_type": "execute_result"
    }
   ],
   "source": [
    "final['Score'].value_counts()"
   ]
  },
  {
   "cell_type": "markdown",
   "id": "9905629c",
   "metadata": {},
   "source": [
    "# Text Pre-processing"
   ]
  },
  {
   "cell_type": "code",
   "execution_count": 11,
   "id": "e0d46dd4",
   "metadata": {},
   "outputs": [
    {
     "name": "stdout",
     "output_type": "stream",
     "text": [
      "[\"this witty little book makes my son laugh at loud. i recite it in the car as we're driving along and he always can sing the refrain. he's learned about whales, India, drooping roses:  i love all the new words this book  introduces and the silliness of it all.  this is a classic book i am  willing to bet my son will STILL be able to recite from memory when he is  in college\"\n",
      " 'I grew up reading these Sendak books, and watching the Really Rosie movie that incorporates them, and love them. My son loves them too. I do however, miss the hard cover version. The paperbacks seem kind of flimsy and it takes two hands to keep the pages open.'\n",
      " 'This is a fun way for children to learn their months of the year!  We will learn all of the poems throughout the school year.  they like the handmotions which I invent for each poem.'\n",
      " 'This is a great little book to read aloud- it has a nice rhythm as well as good repetition that little ones like, in the lines about \"chicken soup with rice\".  The child gets to go through the months of the year and go to wonderful places like Bombay and down the Nile, all the while, eating, well, you know what they get to eat.  Some kids will have Maurice Sendak\\'s version of ice skating or how to treat roses in their heads for a long time and they won\\'t even know where it came from.  Surprise!  It came from this little witty book.  :-)'\n",
      " \"This is a book of poetry about the months of the year.  It goes through each month and has a cute little poem to go along with it.  I love this book because it is a really fun way to learn the months and the poems are very creative. The author's purpose for writing this book was to give children a fun way to learn the months.  The children can also learn things about poetry and rhythm through reading this book.\"\n",
      " \"A charming, rhyming book that describes the circumstances under which you eat (or don't) chicken soup with rice, month-by-month. This sounds like the kind of thing kids would make up while they're out of recess and sing over and over until they drive the teachers crazy. It's cute and catchy and sounds really childlike but is skillfully written.\"\n",
      " \"I set aside at least an hour each day to read to my son (3 y/o). At this point, I consider myself a connoisseur of children's books and this is one of the best. Santa Clause put this under the tree. Since then, we've read it perpetually and he loves it.<br /><br />First, this book taught him the months of the year.<br /><br />Second, it's a pleasure to read. Well suited to 1.5 y/o old to 4+.<br /><br />Very few children's books are worth owning. Most should be borrowed from the library. This book, however, deserves a permanent spot on your shelf. Sendak's best.\"\n",
      " \"I remembered this book from my childhood and got it for my kids.  It's just as good as I remembered and my kids love it too.  My older daughter now reads it to her sister.  Good rhymes and nice pictures.\"\n",
      " \"It's a great book with adorable illustrations.  A true classic.  Kids love the poem and there is music that goes with it, if you can find it.  I think it's sung by Carol King.\"\n",
      " 'This book is a family favorite and was read to my children over and over again when they were small.  We ordered it for a new mom-to-be so that she and her family can enjoy it too!'\n",
      " 'Get the movie or sound track and sing along with Carol King. This is great stuff, my whole extended family knows these songs by heart. Quality kids storytelling and music.'\n",
      " 'The same author wrote \"Where the Wild Things Are.\"  Carol King wrote a great song that matches all the lyrics.  The illustrations are fabulous.  I wish I could buy it hardbound and larger.  It is a tiny book and easily misplaced.  My 3 year-old carries it everywhere.'\n",
      " 'Great book, perfect condition arrived in a short amount of time, long before the expected delivery date'\n",
      " \"I've always loved chicken soup and rice. My late great-grandmother, Ethel, always made me homemade chicken, chicken soup and rice. This book takes me back to the days my mother, my father, my sister, and I went to Ethel's house. My late great-grandfather, Isadore, would cook the chicken because Ethel was blind. So, it reminds me of the time we were all together as a family. It brings back happy memories of all the love we shared over bowls of hot soup.\"\n",
      " 'This book was purchased as a birthday gift for a 4 year old boy. He squealed with delight and hugged it when told it was his to keep and he did not have to return it to the library.'\n",
      " \"My 7 year old daughter brought this book home from the school library. It was a little easy for her reading skills, but she loved it anyways. My 4 year old daughter started reading it and now we can't get her to return it to school. The book is small but this is better for little hands. This is a great book for any age! The pictures are cute and go well with the writing. The rhyming makes it easy to get to know the months. I recommend this book to every parent!\"\n",
      " 'This book contains a collection of twelve short statements, all of which end with the phrase \"Chicken Soup with Rice.\" Each one is based on a month of the year and they have some elements of nonsense verse. For that reason, children will find them entertaining and they will generate a few giggles.'\n",
      " \"Summary:  A young boy describes the usefulness of chicken soup with rice for each month of the year.<br /><br />Evaluation:  With Sendak's creative repetitious and rhythmic words, children will enjoy and learn to read the story of a boy who loves chicken soup with rice!  Through Sendak's catchy story, children will also learn the months of the year, as well as what seasons go with what month! They learn to identify ice-skating and snowmen in the winter; strong wind in March; birds and flowers in the spring; swimming and hot temperatures in the summer; and finally different holidays throughout the year. Such as Halloween in October, and Christmas in December.<br /><br />Sendak's simple three colored crayon-like drawings are a perfect addition to his educational and entertaining story.<br /><br />A great activity that you can do with this book is to have children draw their own illustrations for each month of the year.  Afterwards you can bind the pages together so the children can create their own book.\"\n",
      " 'My daughter loves all the \"Really Rosie\" books. She was introduced to the Really Rosie CD performed by Carole King (also available on Amazon!) on her 1st Birthday and now, a year later, she knows all the songs. As far as the books go, we own: One Was Johnny, Alligators All Around, & Chicken Soup w/Rice. These books are well written with clever art work by Maurice Sendak. Plus, they are really cheap!! Highly recommended :)'\n",
      " \"This is one of the best children's books ever written but it is a mini version of the book and was not portrayed as one.  It is over priced for the product.  I sent an email regarding my bewilderment  to Amazon and got no response.\"\n",
      " \"In June<br />I saw a charming group<br />of roses all begin<br />to droop<br />I pepped them up<br />with chicken soup!<br />Sprinkle once<br />sprinkle twice<br />sprinkle chicken soup<br />with rice<br /><br />This is a great book to teach children the months of the year. The repetition of the phrases and the funny little stories with accompanying pictures make for an ideal bedtime read. This isn't nearly as good as some of Sendak's other books (like Where the Wild Things are or Pierre: The Boy Who Didn't Care), but it still carries his unique brand of charm.\"\n",
      " \"Classic children's book, can't go wrong. I read it when i was a kid and ordered it 20yrs later. can't beat that.\"\n",
      " \"A very entertaining rhyming story--cleaver and catchy.The illustrations are imaginative and fit right in. However, the paperback is somewhat small and flimsy. I'd opt for a bigger edition.\"\n",
      " 'TITLE: Chicken Soup with Rice<br />AUTHOR: Maurice Sendak<br />REVIEWER: Josh Grossman, Colonel {r}, U.S.A.R., M.C., M.D., FACP<br />Rural physician/author/educator-Mentor U.S.M.L.E. Step 3...<br />>Who would believe that I have memorized this book?<br />>Who would believe that I can recite any month in any order?<br />>Who would believe that I read my copy to tatters while reading to my children now professional adults?<br />>Who would believe that my grandchildren read their copy to tatters?<br />I can be confident that generations of children will enjoy \"Chicken Soup with Rice\"<br />Bravo!<br />Thank you!<br />Respectfully submitted...'\n",
      " 'This is a wonderful little book. I loved it 40 years ago and my twins love it now. They enjoy helping me finish each month by singing \"... chicken soup with rice!\"<br /><br />The cute drawings add to the fun -- but be warned, one of them is very un-PC! We\\'re not in 1962 any more, Toto.'\n",
      " 'All of my children love this book.  My first grader got it for Christmas and loves to read the rhymes.  She is proud that she can do it herself.  (Each month her teacher works on a month from the book with the class-not that she reads independently yet.)  My girls especially enjoy reading the month they were born and singing \"going once, going twice, going chicken soup with rice\".  This book is a classic that I remember from my childhood.  I highly recommend it.  I just wish the book was a larger size.  It tends to get lost in the bookshelf among regular sized books.'\n",
      " 'One of my earliest memories is of this book.  My mother, who read to us constantly, read this one to us, and we quoted it non-stop.  In fact, that was a typical sort of soup we would beg for at the grocery because of this book!<br /><br />Since then, I have used the book in every class/teaching situation I have been in.  I have never met a child who did not LOVE it, and ask to be read it again and again.  It sure beats all those stupid songs you sing in preschool about the months of the year! :)  Even if you are not a Maurice Sendak fan, you will enjoy this one, because it is so original and poetic.'\n",
      " \"This is my grand daughter's and my favorite book to read. She is 4 and loves the rhythm of this cute story! I actually enjoy reading it over...and over....and over.....\"\n",
      " \"This copy is smaller than I expected (mostly because I didn't pay attention to the listed dimensions of the book). Maurice Sendak is a wonder, and this little book of months and rhymes is absolutely silly and so much fun to read. I remember it fondly as a child, and I wanted to make sure I had it for my little one's book shelf. Very cute way to teach the months of the year (not to mention celebrating my own personal love of soup) and beautifully illustrated in the way only Sendak can.\"\n",
      " \"I give five stars to the Maurice Sendak story. One star for this printed edition of the book.<br />My children had an older copy this book, so I was very familiar with the previous softcover version. I ordered this for my granddaughters, but I'm embarrassed to give it as a gift, it looks so puny. The book is about the size of a postcard and I think it's overpriced. I've learned my lesson: I will not be buying any more softcover children books, next time I'll get a used copy.\"\n",
      " \"I can remember seeing the show when it aired on television years ago, when I was a child.  My sister later bought me the LP (which I have to this day,  I'm thirty something).I used this series of books &amp; songs when I did my  student teaching for preschoolers &amp; turned the whole school on to it.  I am now purchasing it on CD, along with the books for my children 5 &amp;  2.  The tradition lives on!\"\n",
      " 'These days, when a person says, \"chicken soup\" they\\'re probably going to follow up those words with, \"for the soul\" or maybe \"for the teenaged soul\".  Didn\\'t used to be that way.  Why I can remember a time when if a person said, \"chicken soup\" those words were followed by an enthusiastic \"with rice!\".  Such was the power of Maurice Sendak\\'s catchy 1962 children\\'s book.  I am pleased to report that if you care to read this book again today, you will find it hasn\\'t dimished a jot in terms of frolicksome fun.  In this book we are led through a whirlwind chicken soup year with our host, a boy who bears no little resemblance to Sendak\\'s other great rhyming tale \"Pierre\" (in looks if not demeanor).  It\\'s a catchy flouncy bouncy combo of soup and the people who love it so.<br /><br />This is ostensibly a book meant to teach your children the different months of the year.  Each month gets its own rhythmic poem and accompanying illustration.  These are fairly simple pen and ink drawings with the occasional splash of blue (in varying shades), yellow, gray, and green.  You may wonder how an author could ever hope to come up with twelve highly original soup-related poems.  I mean, honestly, how much is there to say about even the fanciest soup, let alone chicken soup with rice?  Quite a lot, as it happens.  In the cold winter months soup is supped while sliding on ice, while celebrating the birthday of a snowman, and in a gusty gale as a whale.  In the spring there\\'s robin\\'s nest soup, soup to cure drooping roses, and soup stolen by jealous March winds.  Our hero postulates the potential joys that could come of being a cooking pot, stewing soup or (oddly enough) as \"a baubled bangled Christmas tree\".<br /><br />Not to degrade the reading skills of parents everywhere, but I cannot recommend enough getting an audio version of this tale to accompany your child\\'s reading.  Though I am now a wise and cultured 26 year-old (the years have been kind to me in this, my old age) I can still remember the chicken soup with rice tune.  Heck, I read this entire book recently and found I could do the song perfectly with each and every line.  Now maybe you have your own particular chicken soup with rice song style that you\\'re just loathe to give up.  If so, fine.  I understand why you might not want to taint your already existing chicken soup melody.  But if you haven\\'t found a jingle to accompany this book, get the audio version immediately, if not sooner.  Until you can sing \"Whoopy once, whoopy twice, whoopy chicken soup with rice\" with the correct oomph, you\\'re missing out.<br /><br />I take my \"Chicken Soup With Rice\" readings seriously.  This book was the \"Chicka Chicka Boom Boom\" of its day, and still remains the catchiest method to teach kids the months of the year.  It is also seriously in danger of being forgotten.  So pull out your old accordion and strap on your dancing shoes.  The time for yukkin\\' it up to a merry dance of poultry broth is here.  It\\'s Sendak at his finest.'\n",
      " \"This was a favorite book of mine when I was a little girl and I would read it all the time and my Mom would read it to me as a bedtime book, I have had two copies of this book the first one had been either lost or given away but I found another copy at a garage sale and it was in very good condition and I just had to buy it, I don't know where it is but it's around somewhere probably up in the attic and I will have to look for it so I can read it to my niece. I recommend this book!\"\n",
      " 'This book has been a favorite of mine since I was able to read. It was one of my first introductions to poetry, and the humorous rhymes have been an inspiration to me in my own writing. This is the type of book that college students reminisce about and bond over--it really is that simple and good.'\n",
      " 'This product by Archer Farms is the best drink mix ever. Just mix a flavored packet with your 16 oz. water bottle. Contains the all natural sweetner Stevia, real fruit flavoring and no food coloring. Just colored with fruit or vegetable colors. Pure and natural and tastes great. There are eight packets in a box and only contains 10 calories per packet. Thank you Archer Farms!'\n",
      " 'Our dogs just love them.  I saw them in a pet store and a tag was attached regarding them being made in China and it satisfied me that they were safe.'\n",
      " 'My dogs loves this chicken but its a product from China, so we wont be buying it anymore.  Its very hard to find any chicken products made in the USA but they are out there, but this one isnt.  Its too bad too because its a good product but I wont take any chances till they know what is going on with the china imports.'\n",
      " 'This book is easy to read and the ingredients are available in stores unlike some recipe books where you have to go to special stores to find ingredients. I use it to make food not only for my son but for myself!  The only thing I wish was that there were more recipes like these.  It is great for any one who likes a healthy and yummy snack.'\n",
      " 'I have been feeding my greyhounds these treats for years.  My hounds can be a little finicky, but they love these treats.  They are expensive, relative to other biscuits, but I find they are a good addition to their diet.  The treats are easy on the teeth.  Since they are protein treat, be careful not to overindulge your pet on a regular basis.  They are great treats to take on walks as you can stuff them in your pocket easily.  I have found prices can vary from vendor to vendor, so shop around.'\n",
      " 'This is one product that my welsh terrier can eat. Sophie has food alergies so I have to be very careful in what I feed her. My other dog Oscar, also gets these treats and loves them. He has no food alergies. This product is just simple ingredients, no additives, and that is what my dogs need.'\n",
      " 'This is the ONLY dog treat that my Lhasa Apso will eat. It makes me happ becuase it has NO added ingredients or preservatives, as well as NO ADDED SALT! This is the ONLY dog treat that my Vet approves of!'\n",
      " 'These liver treas are phenomenal. When i received the 14oz. bucket by amazon i began training my 3month old Alaskan malamute. Now that a month has passed by, she now knows: Sit, Stay, Down, Paw, & SPEAK! My bucket is almost empty as it only lasted for about a month but was worth every penny as ive read malamutes are very stubborn quite dogs. I gave some to my 2 poodles where they gobbled it down and were begging for more. These treats are highly recommended, plus the liver cubes can be further broken down into quadrants. A+++ product'\n",
      " \"This was the only treat my dog liked during obedience training and it has remained her favorite ever since.  I haven't met a dog that didn't like this treat!\"\n",
      " 'No waste , even if she is having a  day when she goes on a hunger strike  she always room for one or 2 or 3 of these and the extra powder on bottom makes a real treat on food , Never met a pooch that did not go crazy over her treats !'\n",
      " 'I wanted a treat that was accepted and well liked for my rescue animals.<br />This is the only treat that is healthy and loved by all 4 legged beings in my home!<br />It does not contain sugar or grains or silly vegetables which virtually all treats contain. Dogs, cats and ferrets are carnivores they are not cattle to eat grain or rabbits to eat vegetables, and WHYYYY do companies add sugar,beet pulp or corn syrup to carnivore foods? It is dangerous and can cause the death of an animal with diabetes.<br />It is pretty easy to break into smaller pieces for cats and kittens with weak jaws and its wonderful to use as an aid to gain the trust of an abused dog as it will not cause stomach upset when given in common sense amounts.<br />I like that it goes a long way as it costs alot to heal and maintain and train abused and rescued dogs.<br />NO minus to this product other then the price,I can not afford to use it as much as I would like.'\n",
      " 'My Westie loves these things!  She loves anything with liver but this one is the best.  Expensive by weight, but well worth it.  The freeze-drying process concentrates the flavor and nutrition:  Susie gives it 5 snouts!'\n",
      " 'This is the only dog treat that my terrier will eat. We crumble over his dry food and he LOVES it.'\n",
      " \"New puppy loves this, only treat he will pay attention to while walking and training. One note, pieces are quite large so I cut them up into smaller pieces so their recommended daily amount goes further.<br /><br />All the dogs in the dog park can't resist my pocket when I have these treats. Usually surrounded by a crowd of dogs all poking at my pocket.\"\n",
      " 'My dog loves these treats!  We started using them for training purposes.  The treats of healthy too!'\n",
      " 'This is a great treat which all three of my dogs absolutely love!  I am now ordering it regularly and the price is great.'\n",
      " 'We were buying thses from our vet, but they are so expensive. So glad we found them online.  Our dog loves these! Thanks!'\n",
      " 'This is a healthy and good snack for my dog.  It is a great training produst too.  When you take into account that a couple are all she needs it is a good value.'\n",
      " \"Our two dogs love this product, and we love the fact that it's not loaded with chemical preservatives and fillers.  The fact that the pieces are irregular is not a drawback and is not surprising.  I do cut up the larger pieces as I don't want to give them too much at once.  The prospect of getting one of these treats makes them much more receptive to training and just coming when you call.  Also, we find the largest size very economical as you don't pay for shipping.\"\n",
      " 'My dogs LOVE this product. They beg for them. They also came recommended by our animal trainer.  My only issue is that I took advantage of the Super Shipper Saver and for some reason it took almost a month to get here. VERY VERY slow shipping.'\n",
      " 'My dogs love these treats.  They beg for them and sometimes I sprinkle these treats on top of their food for a special treat.  Also Amazon ships very fast so I get them quickly.'\n",
      " 'product is excellent as a training treat or just an everyday treat.  My dog absolutely loves them.'\n",
      " 'Its a great product, and our dog loves them.  But I see that Amazon lists some sellers of \"used and new\".....I wouldn\\'t recommend buying these used.'\n",
      " \"Freeze dried liver has a hypnotic effect on dogs. They LOVE it and will do just about anything for it, so it is a great treat to use for training. (Powdered freeze dried liver is even added to many dog medicines nowadays-- heartworm and arthritis tablets, etc.-- because it causes the dog to scarf the medicine down like a treat.)<br /><br />Freeze dried liver has a dry, hard, yet powdery/easy to chew consistency. It comes chopped/cubed. It is extremely lightweight due to the fact there is so little moisture in the product (thus the low weights on product labels).<br /><br />Even though your dog will love liver treats, you shouldn't overfeed it. The manufacturer recommends 1-2 cubes daily for small dogs, 2-3 cubes for medium dogs, and 3-4 cubes for large dogs.<br /><br />The largest package sizes of liver treats tend to be far more economical. I recommend buying the larger tubs, as you will save lots of money, you'll have a handy treat supply around for a longer time, and your dog will never tire of this product.<br /><br />There is really zero waste with this product. When you near the end of the tub you'll find some powdery bits of dried liver at the bottom. Your dogs will go CRAZY if you sprinkle this dust over their dog food-- it's a wonderful reward that is easy to use.<br /><br />~~~~~~~~~~~~~~~~~~<br />Here's the nutritional analysis:<br /><br />-100% freeze dried liver<br />-NO additives or preservatives.<br /><br />-Crude protein..... not less than 50%<br />-Crude fat..... not less than 5%<br />-Crude fiber..... not more than 3%<br />-Moisture..... not more than 6%\"\n",
      " \"These liver treats are great for training. We adopted a German Shepherd puppy and have been using these to teach her basic commands. She goes bananas for these and learned very quickly even though she's a VERY stubborn pup. Since she's still small I cut the large cubes into thirds or quarters(she doesn't know and doesn't mind)to make our training sessions go further since it's recommended that you give only a few treats a day to avoid digestion problems. Also, compared to other liver treats on the market, this brand only uses 100% beef liver, no preservatives, fillers, or other stuff your dog doesn't need. The treats also keep indefinitely in the container if kept in a cool, dry place. The 21 oz. bucket is the most economical buy. We've had our pup 2+ months and the bucket is still mostly full. (Psst! - KV Pet Supply has the best online price- $24.99 for a 21oz. container) Highly recommended!\"\n",
      " 'I have tried several different kinds of training treats from pet stores and they all either made my English Bulldog puppy sick or lose interest. The liver is working great she absolutely loves them and they keep her attention 100%!'\n",
      " \"Freeze dried liver has a hypnotic effect on dogs.  They LOVE it and will do just about anything for it, so it is a great treat to use for training.  (Powdered freeze dried liver is even added to many dog medicines nowadays-- heartworm and arthritis tablets, etc.-- because it causes the dog to scarf the medicine down like a treat.)<br /><br />Freeze dried liver has a dry, hard, yet powdery/easy to chew consistency.  It comes chopped/cubed.  It is extremely lightweight due to the fact there is so little moisture in the product (thus the low weights on product labels).<br /><br />Even though your dog will love liver treats, you shouldn't overfeed it.  The manufacturer recommends 1-2 cubes daily for small dogs, 2-3 cubes for medium dogs, and 3-4 cubes for large dogs.<br /><br />The largest package sizes of liver treats tend to be far more economical.  I recommend buying the larger tubs, as you will save lots of money, you'll have a handy treat supply around for a longer time, and your dog will never tire of this product.<br /><br />~~~~~~~~~~~~~~~~~~<br />Here's the nutritional analysis:<br /><br />-100% freeze dried liver<br />-NO additives or preservatives.<br /><br />-Crude protein..... not less than 50%<br />-Crude fat.....  not less than 5%<br />-Crude fiber.....  not more than 3%<br />-Moisture.....  not more than 6%\"\n",
      " \"He loves the Liver treats and the Lamb treats. They're not much to look at (simple cubes) but he starts to lick his lips whenever he hears me get the can!\"\n",
      " 'When you first give them out, be careful, you might just draw back a nub! Our oldest dog was very nonchalant about her treats. We just about had to beg her to eat them. NOT THESE. She went nuts over these and looked forward to them every night. The vet said I should give her liver to build her red blood cells up. It helped buy us a little longer with her I think. Now the other 2 dogs are addicted to them also! It is a HEALTHY treat that they love. They would eat the whole tub in one sitting if I would let them! It has no awful liver smell either!'\n",
      " 'These items were delivred quickly and exactly as promised.  Thank you.  Super large container and the pieces were well intact.<br />Thanks you.'\n",
      " 'My 2 year old German Shepherd loves this treat.  I keep it on my counter as a quick and handy treat for \"mini, spontaneous training sessions\".  The only issue I have is that most of the treats are a bit big and difficult to break into smaller pieces which is necessary for obedience classes where we go through many treats.  Therefore, I do not use these treats for that purpose.  (The container recommends only 3-4 cubes per day for large dogs).  Having said that, they are an excellent treat for occasional use and I would highly recommend them.'\n",
      " 'My dogs love this stuff! They will do anything for liver treats!<br />Be careful, very rich, a little goes a very long way, give sparingly!!!!'\n",
      " 'Received very timely, and packed safely; no burst packaging.  Really glad that these people make large enough buckets of this wonderful treat that it makes it affordable.  Dogs love these little cube treats, and they are always fresh since they are freeze dried.'\n",
      " 'My dogs love these treats and I was buying them from the vet at double the price!  Great deal, great service!'\n",
      " 'These Dried Dog Treats are great.  My dog was diagnoised with diabetes and these are a low fat treat for him and he loves them.'\n",
      " \"This product is a very health snack for your pup as it is made of 100% beef liver. My puppy does all of his tricks to get this treat. It is a little pricy but the container is large so it should last a long time as long as you don't overfeed.\"\n",
      " 'My girls love these. I cut them up smaller and use them for training. Definately able to keep the dogs attention when they know something yummy and tasty is coming their way. The price was right too for the amount. As long as the price remains perfect I plan on having a steady supply of this great product!'\n",
      " 'This is 2.5 oz larger than what you can find in pet stores and less expensive. Shipped day the it was ordered and arrived 2 days later with prime.'\n",
      " \"I have one dog that is a picky eater. I crumble this liver treat into her food bowl and she loves it. If you have a dog that doesn't eat, try this, you won't be disappointed.\"\n",
      " 'My Golden can get picky and eating is not a priority for him. I was worried during training he was going to be too anxious to not eat any training treats. Well...these he will eat and I am very great-full! However, they do not have the best smell (definitely not something I would eat). :) Will be purchasing more.'\n",
      " 'We cut these up into small pieces for our Corgi pup (so each treat actually becomes 8-10 mini treats) to prevent throwing off his diet.  This allows us to give him multiple treats for going potty outside (like 3-5 mini treats each time).  We also use these whenever our puppy meets a stranger -- we make sure all four paws are on the ground before we give it to him and he has already learned to inhibit his desire to jump up on people!  These are amazing and I appreciate that they are made in the USA -- no weird chemicals to worry about -- and our pup loves to work for them!'\n",
      " 'Yes, they are a bit expensive but, they are high quality, and pure nutrition.  Good training treat and not too high in calories.  Highly recommend this!'\n",
      " \"I have two German Shepherds. I use these as training treats. I also use them when I brush them, which they don't enjoy so much but know they will get treats. We have tried every treat available. These are the best.\"\n",
      " 'Extremely big bucket of yummy treats for training! This is a great value. The pieces are large, but I cut them up into smaller pieces for regular training purposes.'\n",
      " \"These liver chunks are like crack for dogs. The niblets are magic for training dogs because the critters will do anything for these. Although freeze-dried liver is pricey, you can cut the chunks into tiny chinks and use while training, rewarding, or just saying, 'I love you, my good dog.'\"\n",
      " \"all natural,dogs favorite treat. Don't give too many because it will constipate dog. My dogs will do anything for these treats!\"\n",
      " \"My dog trainer recommended this to our obedience class. I found the best price here on Amazon, and my puppy LOVES the treats. Great training treats if used in moderation (too much organ meat isn't good for anyone). Also excellent if you put some of the treats in a container with non-liver treats/cookies. Use the container as a shaker to help train your dog to come, and the other treats get a liver flavored (dust) coating that makes your dog love them even more! No limit on liver dusted treats!<br /><br />Two paws up for this stuff!\"\n",
      " \"My three very finicky dogs love this product, and I like the way I can cut them up into small pieces for training.  There is only one ingredient in this: liver, all sourced within the United States, so I feel confident and safe giving this to my dogs.  I buy this on a regular basis.  It's priced better than any pet supply store I've seen, even the larger chains.  Qualifies for free shipping, which is also nice.\"\n",
      " 'My dog is not enthusiastic about food.  She enjoys these treats which are light weight and easy to carry.  Number of treats per day must be limited.'\n",
      " \"My dogs love these... either straight up, or crumbled on food they would otherwise not eat.  They don't get sick of them and almost never ever reject them.  They do quite often reject other treats, and certainly after a while of the same other treats.  But then tend to always enjoy these. In fact, I have to be careful not to over feed them these because I don't know if they are healthy to eat in quantity.  Certainly not for my wallet.  They do last a LONG time though, especially compare to their weight.  However, dogs wolf them down quite quickly.  I highly recommend you reward you doggies with some!\"\n",
      " 'My dogs have been eating liver treats for years.  We also use the treats for training.  The treats are 50% crude protein so you are getting a high quality treat.  Just make sure your dog has enough water since the treats make  my dogs thirsty.'\n",
      " 'I was intially introduced to Pro-Treat Beef Liver Freeze Dried Dog Treats at my veterinarian\\'s office.  Rudy, our Jack Russell Terrior, usually not all that interested in dog treats, responded like I\\'d never seen before!<br /><br />I bought a couple of cans (they are pretty pricey), but gave them to him sparingly. The tricks he\\'d do for the Pro-Treats were really entertaining.  Now, Rudy has to take meds. for his glaucoma and thank heavens I found the large size here which is a good value, so he not only takes his medicine, but gives great tricks in return each day! He\\'s a happy camper, despite the loss of sight in one eye.<br /><a href=\"http://www.amazon.com/gp/product/B0002DGRSY\">Pro-Treat Beef Liver, Freeze Dried Dog Treats, 21 Ounce</a><br /><br />Rudy says, \"They are the best part of my day!\"  We think so too!  ~ CJ'\n",
      " 'Dogs just love Freeze dried liver and this is a good price for this size container.'\n",
      " 'We tried everything including cheese, chicken & hot dogs and this is the only one he will eat.'\n",
      " 'My dog, a little maltese, loves this product.  She knows she will get it as a reward for doing her business on the wee wee pads.  Works every time to reinforce her behavior. I also received the product in a timely fashion thanks to Amazon.'\n",
      " 'Dogs love these treats more than any other treats I\\'ve ever found.  In situations where other treats fail to get our dog\\'s attention - <a href=\"http://www.amazon.com/gp/product/B0019O5Z0Q\">Charlee Bear Turkey Liver & Cranberry Flavored Dog Treats</a>, for example - these treats are impossible for her to ignore.  They are an incredible training aid.<br /><br />Big bonus is that they\\'re also simple and good for the dog.  Liver is a healthy treat and is supposed to help combat weepy eyes.  Unlike most other commercial treats, this one isn\\'t loaded with a bunch of other junk that isn\\'t good for your dog (byproducts and the like), it\\'s just a good ingredient that your dog will love.'\n",
      " 'My dog loves this all natural treat and the price cannot be beat by any store.'\n",
      " 'This is a great treat for dogs, but do read the label: dogs of certain sizes can only have so many of these per day. I violated this and my dog got an upset stomach, so I am just giving a heads up. The cost is a bit high for these treats, but you get a lot of you buy the largest tub. My dogs go crazy for them too!'\n",
      " 'The 21 ounce Pro-Treat Beef Liver Treats are a great value and my dog loves them.  I just need to reach for the tub and she will sit and put up her paw.  I even cut them into tiny pieces sometimes and sprinkle them onto her food.  She gobbles up her food when I do that.  This size will last a while.'\n",
      " \"My dogs LOVE these treats! Freeze dried easy to throw some in a zip lock bag and take them with you. Wonderful training treats because they're so easy to put in your pocket. Great deal too!\"\n",
      " \"I have a 2 1/2 year old black lab and these are her favorite treats! They are the best for training, my dog will do just about anything to get one of these treats. Even my 3 month old black lab puppy goes running to his kennel when I tell him to go to bed because he knows that a liver treat is coming his way. Since they are sliced small a large container of these will last a while. The only complaint I have is that my dog loves these so much that if she knows shes getting one she starts to drool, and she's not a drooler... So I gotta toss one to her quick!!\"\n",
      " 'I have ordered these a number of times for my terrier mix (part pit bull?) - usually a little cheaper than in-store.  I initially used them for training only and then found that with the larger pieces I could jam a piece or two inside a chew toy, hide a treat toy or hollow bone that has already stood Travis\\' test and this can give my dog hours of enjoyment.<br /><br />My issue with them - and why I went with a 4 instead of a 5 - is the size of the pieces are inconsistent.  My first couple times there was a good mix of some larger squares - 3/4\" - 1\" cubes and smaller that I use for training bits.  My last order was completely smaller pieces - making it difficult to use it inside a toy/ bone as they come out too easily. Play time no longer lasts as long.<br /><br />I am hopeful that my next order in line with the others and have a mix. I would have given it a 5 prior to my last order.<br /><br />As a training treat these are AMAZING.'\n",
      " 'Our Airedale loves the taste of the Beef Freeze Dried Dog Treats which we use for training. It really works'\n",
      " \"Getting grain free treats for training usually leaves three options: hard biscuits (and who wants to work for those?), cooked meat (which is gross to handle), or commercial meaty grain-free treats which cost an arm and a leg.<br /><br />These on the other hand, are very affordable, not gross to handle, and the dogs think they smell AMAZING.  They work great when your dog's attention is wavering - a waff of freeze dried beef liver usually snaps them back to attention!<br /><br />Also, being as they're only beef liver, I don't feel bad feeding my dog as many as needed for training.<br /><br />Highly recommended.\"\n",
      " 'Our dog loves this stuff.  Ground up and sprinkled on his dry food he just gobbles it up.  No additives or fillers no carbs. We also use as a treat.  Best price at Amazon and quick delivery.'\n",
      " \"My dog loves these treats. He's really picking with his treats so it says a lot that he loves these. I had been buying him bags of the freeze dried treats at petco, etc. and it was costing a fortune, not to mention they were smashed. These are great quality. You get tons!! in the 14 ounce bucket and my little dog is in love.\"]\n"
     ]
    }
   ],
   "source": [
    "print(final['Text'].values[0:100])"
   ]
  },
  {
   "cell_type": "code",
   "execution_count": 13,
   "id": "7e7f4b16",
   "metadata": {},
   "outputs": [],
   "source": [
    "import re\n",
    "\n",
    "def decontracted(phrase):\n",
    "    # specific\n",
    "    phrase = re.sub(r\"won't\", \"will not\", phrase)\n",
    "    phrase = re.sub(r\"can\\'t\", \"can not\", phrase)\n",
    "\n",
    "    # general\n",
    "    phrase = re.sub(r\"n\\'t\", \" not\", phrase)\n",
    "    phrase = re.sub(r\"\\'re\", \" are\", phrase)\n",
    "    phrase = re.sub(r\"\\'s\", \" is\", phrase)\n",
    "    phrase = re.sub(r\"\\'d\", \" would\", phrase)\n",
    "    phrase = re.sub(r\"\\'ll\", \" will\", phrase)\n",
    "    phrase = re.sub(r\"\\'t\", \" not\", phrase)\n",
    "    phrase = re.sub(r\"\\'ve\", \" have\", phrase)\n",
    "    phrase = re.sub(r\"\\'m\", \" am\", phrase)\n",
    "    return phrase"
   ]
  },
  {
   "cell_type": "code",
   "execution_count": 22,
   "id": "25b22821",
   "metadata": {},
   "outputs": [],
   "source": [
    "stopwords= set(['br', 'the', 'i', 'me', 'my', 'myself', 'we', 'our', 'ours', 'ourselves', 'you', \"you're\", \"you've\",\\\n",
    "            \"you'll\", \"you'd\", 'your', 'yours', 'yourself', 'yourselves', 'he', 'him', 'his', 'himself', \\\n",
    "            'she', \"she's\", 'her', 'hers', 'herself', 'it', \"it's\", 'its', 'itself', 'they', 'them', 'their',\\\n",
    "            'theirs', 'themselves', 'what', 'which', 'who', 'whom', 'this', 'that', \"that'll\", 'these', 'those', \\\n",
    "            'am', 'is', 'are', 'was', 'were', 'be', 'been', 'being', 'have', 'has', 'had', 'having', 'do', 'does', \\\n",
    "            'did', 'doing', 'a', 'an', 'the', 'and', 'but', 'if', 'or', 'because', 'as', 'until', 'while', 'of', \\\n",
    "            'at', 'by', 'for', 'with', 'about', 'against', 'between', 'into', 'through', 'during', 'before', 'after',\\\n",
    "            'above', 'below', 'to', 'from', 'up', 'down', 'in', 'out', 'on', 'off', 'over', 'under', 'again', 'further',\\\n",
    "            'then', 'once', 'here', 'there', 'when', 'where', 'why', 'how', 'all', 'any', 'both', 'each', 'few', 'more',\\\n",
    "            'most', 'other', 'some', 'such', 'only', 'own', 'same', 'so', 'than', 'too', 'very', \\\n",
    "            's', 't', 'can', 'will', 'just', 'don', \"don't\", 'should', \"should've\", 'now', 'd', 'll', 'm', 'o', 're', \\\n",
    "            've', 'y', 'ain', 'aren', \"aren't\", 'couldn', \"couldn't\", 'didn', \"didn't\", 'doesn', \"doesn't\", 'hadn',\\\n",
    "            \"hadn't\", 'hasn', \"hasn't\", 'haven', \"haven't\", 'isn', \"isn't\", 'ma', 'mightn', \"mightn't\", 'mustn',\\\n",
    "            \"mustn't\", 'needn', \"needn't\", 'shan', \"shan't\", 'shouldn', \"shouldn't\", 'wasn', \"wasn't\", 'weren', \"weren't\", \\\n",
    "            'won', \"won't\", 'wouldn', \"wouldn't\"])"
   ]
  },
  {
   "cell_type": "code",
   "execution_count": 23,
   "id": "8cb682e5",
   "metadata": {},
   "outputs": [
    {
     "name": "stderr",
     "output_type": "stream",
     "text": [
      "100%|██████████| 5000/5000 [00:02<00:00, 1705.83it/s]\n"
     ]
    }
   ],
   "source": [
    "from tqdm import tqdm\n",
    "from bs4 import BeautifulSoup\n",
    "preprocessed_reviews = []\n",
    "for sentance in tqdm(final['Text'].values[0:5000]):\n",
    "    sentance = re.sub(r\"http\\S+\", \"\", sentance)\n",
    "    sentance = BeautifulSoup(sentance, 'lxml').get_text()\n",
    "    sentance = decontracted(sentance)\n",
    "    sentance = re.sub(\"\\S*\\d\\S*\", \"\", sentance).strip()\n",
    "    sentance = re.sub('[^A-Za-z]+', ' ', sentance)\n",
    "    # https://gist.github.com/sebleier/554280\n",
    "    sentance = ' '.join(e.lower() for e in sentance.split() if e.lower() not in stopwords)\n",
    "    preprocessed_reviews.append(sentance.strip())"
   ]
  },
  {
   "cell_type": "markdown",
   "id": "6b072716",
   "metadata": {},
   "source": [
    "## Bag of Words (BoW)"
   ]
  },
  {
   "cell_type": "code",
   "execution_count": 26,
   "id": "032d6556",
   "metadata": {},
   "outputs": [
    {
     "name": "stdout",
     "output_type": "stream",
     "text": [
      "['aaaaa', 'aafco', 'ab', 'abandon', 'abandoned', 'abdomen', 'abdominal', 'aberration', 'abide', 'abilities']\n"
     ]
    }
   ],
   "source": [
    "count_vect = CountVectorizer()\n",
    "count_vect.fit(preprocessed_reviews)\n",
    "print(count_vect.get_feature_names()[:10])"
   ]
  },
  {
   "cell_type": "code",
   "execution_count": 27,
   "id": "12deb7e6",
   "metadata": {},
   "outputs": [
    {
     "name": "stdout",
     "output_type": "stream",
     "text": [
      "<class 'scipy.sparse.csr.csr_matrix'>\n",
      "(5000, 16190)\n"
     ]
    }
   ],
   "source": [
    "final_counts = count_vect.transform(preprocessed_reviews)\n",
    "print(type(final_counts))\n",
    "print(final_counts.get_shape())"
   ]
  },
  {
   "cell_type": "markdown",
   "id": "08e75d7a",
   "metadata": {},
   "source": [
    "## Bi-Grams and n-Grams"
   ]
  },
  {
   "cell_type": "code",
   "execution_count": 28,
   "id": "da896a65",
   "metadata": {},
   "outputs": [],
   "source": [
    "count_vect = CountVectorizer(ngram_range=(1,2), min_df = 10, max_features = 5000)"
   ]
  },
  {
   "cell_type": "code",
   "execution_count": 29,
   "id": "f2288c91",
   "metadata": {},
   "outputs": [],
   "source": [
    "final_bigram_counts = count_vect.fit_transform(preprocessed_reviews)"
   ]
  },
  {
   "cell_type": "code",
   "execution_count": 30,
   "id": "78e44f68",
   "metadata": {},
   "outputs": [
    {
     "data": {
      "text/plain": [
       "scipy.sparse.csr.csr_matrix"
      ]
     },
     "execution_count": 30,
     "metadata": {},
     "output_type": "execute_result"
    }
   ],
   "source": [
    "type(final_bigram_counts)"
   ]
  },
  {
   "cell_type": "code",
   "execution_count": 31,
   "id": "c60d1474",
   "metadata": {},
   "outputs": [
    {
     "data": {
      "text/plain": [
       "(5000, 3740)"
      ]
     },
     "execution_count": 31,
     "metadata": {},
     "output_type": "execute_result"
    }
   ],
   "source": [
    "final_bigram_counts.get_shape()"
   ]
  },
  {
   "cell_type": "markdown",
   "id": "ed7cd93b",
   "metadata": {},
   "source": [
    "## TF-IDF"
   ]
  },
  {
   "cell_type": "code",
   "execution_count": 32,
   "id": "bcfc7fdb",
   "metadata": {},
   "outputs": [],
   "source": [
    "tf_idf_vect = TfidfVectorizer(ngram_range=(1,2), min_df = 10)"
   ]
  },
  {
   "cell_type": "code",
   "execution_count": 33,
   "id": "1c2cbdce",
   "metadata": {},
   "outputs": [
    {
     "data": {
      "text/plain": [
       "TfidfVectorizer(min_df=10, ngram_range=(1, 2))"
      ]
     },
     "execution_count": 33,
     "metadata": {},
     "output_type": "execute_result"
    }
   ],
   "source": [
    "tf_idf_vect.fit(preprocessed_reviews)"
   ]
  },
  {
   "cell_type": "code",
   "execution_count": 35,
   "id": "ec9e50fa",
   "metadata": {},
   "outputs": [
    {
     "name": "stdout",
     "output_type": "stream",
     "text": [
      "some sample features: ['ability', 'able', 'able find', 'able get', 'absolute', 'absolutely', 'absolutely love', 'absolutely loves', 'absolutely no', 'acceptable']\n"
     ]
    }
   ],
   "source": [
    "print(\"some sample features:\",tf_idf_vect.get_feature_names()[0:10])"
   ]
  },
  {
   "cell_type": "code",
   "execution_count": 36,
   "id": "743f796f",
   "metadata": {},
   "outputs": [],
   "source": [
    "final_tf_idf = tf_idf_vect.transform(preprocessed_reviews)"
   ]
  },
  {
   "cell_type": "code",
   "execution_count": 37,
   "id": "849fbbc4",
   "metadata": {},
   "outputs": [
    {
     "data": {
      "text/plain": [
       "scipy.sparse.csr.csr_matrix"
      ]
     },
     "execution_count": 37,
     "metadata": {},
     "output_type": "execute_result"
    }
   ],
   "source": [
    "type(final_tf_idf)"
   ]
  },
  {
   "cell_type": "code",
   "execution_count": 38,
   "id": "042c95ef",
   "metadata": {},
   "outputs": [
    {
     "data": {
      "text/plain": [
       "(5000, 3740)"
      ]
     },
     "execution_count": 38,
     "metadata": {},
     "output_type": "execute_result"
    }
   ],
   "source": [
    "final_tf_idf.get_shape()"
   ]
  },
  {
   "cell_type": "markdown",
   "id": "74e099d5",
   "metadata": {},
   "source": [
    "## Word2Vec"
   ]
  },
  {
   "cell_type": "code",
   "execution_count": null,
   "id": "1744024c",
   "metadata": {},
   "outputs": [],
   "source": []
  }
 ],
 "metadata": {
  "kernelspec": {
   "display_name": "Python 3",
   "language": "python",
   "name": "python3"
  },
  "language_info": {
   "codemirror_mode": {
    "name": "ipython",
    "version": 3
   },
   "file_extension": ".py",
   "mimetype": "text/x-python",
   "name": "python",
   "nbconvert_exporter": "python",
   "pygments_lexer": "ipython3",
   "version": "3.6.9"
  }
 },
 "nbformat": 4,
 "nbformat_minor": 5
}
